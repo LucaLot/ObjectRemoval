{
 "cells": [
  {
   "cell_type": "code",
   "execution_count": 1,
   "metadata": {},
   "outputs": [],
   "source": [
    "import cv2\n",
    "import numpy as np\n",
    "import matplotlib\n",
    "import matplotlib.pyplot as plt\n",
    "matplotlib.use('TkAgg')\n"
   ]
  },
  {
   "cell_type": "code",
   "execution_count": 2,
   "metadata": {},
   "outputs": [],
   "source": [
    "image = cv2.imread('colour.jpg')\n",
    "gray = cv2.cvtColor(image, cv2.COLOR_BGR2GRAY)\n",
    "colour = cv2.cvtColor(image, cv2.COLOR_BGR2RGB)"
   ]
  },
  {
   "cell_type": "code",
   "execution_count": 3,
   "metadata": {},
   "outputs": [],
   "source": [
    "gX = cv2.Sobel(gray, ddepth=cv2.CV_32F, dx=1, dy=0, ksize=3)\n",
    "gY = cv2.Sobel(gray, ddepth=cv2.CV_32F, dx=0, dy=1, ksize=3)\n",
    "gX = cv2.convertScaleAbs(gX)\n",
    "gY = cv2.convertScaleAbs(gY)"
   ]
  },
  {
   "cell_type": "code",
   "execution_count": 4,
   "metadata": {},
   "outputs": [
    {
     "name": "stderr",
     "output_type": "stream",
     "text": [
      "Warning: Ignoring XDG_SESSION_TYPE=wayland on Gnome. Use QT_QPA_PLATFORM=wayland to run on Wayland anyway.\n"
     ]
    }
   ],
   "source": [
    "cv2.imshow(\"Sobel/Scharr X\", gX)\n",
    "cv2.imshow(\"Sobel/Scharr Y\", gY)\n",
    "cv2.waitKey(0)\n",
    "cv2.destroyAllWindows()"
   ]
  },
  {
   "cell_type": "code",
   "execution_count": 5,
   "metadata": {},
   "outputs": [],
   "source": [
    "blur = cv2.GaussianBlur(gray, (5,5), cv2.BORDER_DEFAULT)\n",
    "cv2.imshow(\"Smoothing\", blur)\n",
    "cv2.waitKey(0)\n",
    "cv2.destroyAllWindows()"
   ]
  },
  {
   "cell_type": "code",
   "execution_count": 6,
   "metadata": {},
   "outputs": [],
   "source": [
    "bX = cv2.Sobel(blur, ddepth=cv2.CV_32F, dx=1, dy=0, ksize=3)\n",
    "bY = cv2.Sobel(blur, ddepth=cv2.CV_32F, dx=0, dy=1, ksize=3)\n",
    "bX = cv2.convertScaleAbs(bX)\n",
    "bY = cv2.convertScaleAbs(bY)"
   ]
  },
  {
   "cell_type": "code",
   "execution_count": 7,
   "metadata": {},
   "outputs": [],
   "source": [
    "cv2.imshow(\"Sobel/Scharr X\", bX)\n",
    "cv2.imshow(\"Sobel/Scharr Y\", bY)\n",
    "cv2.waitKey(0)\n",
    "cv2.destroyAllWindows()"
   ]
  },
  {
   "cell_type": "code",
   "execution_count": 8,
   "metadata": {},
   "outputs": [],
   "source": [
    "magnitude = np.sqrt((bX ** 2) + (bY ** 2))\n",
    "orientation = np.arctan2(bY, bX) * (180 / np.pi) % 180"
   ]
  },
  {
   "cell_type": "code",
   "execution_count": 9,
   "metadata": {},
   "outputs": [],
   "source": [
    "(fig, axs) = plt.subplots(nrows=1, ncols=3, figsize=(8, 4))\n",
    "# plot each of the images\n",
    "axs[0].imshow(blur, cmap=\"gray\")\n",
    "axs[1].imshow(magnitude, cmap=\"jet\")\n",
    "axs[2].imshow(orientation, cmap=\"jet\")\n",
    "# set the titles of each axes\n",
    "axs[0].set_title(\"Grayscale\")\n",
    "axs[1].set_title(\"Gradient Magnitude\")\n",
    "axs[2].set_title(\"Gradient Orientation [0, 180]\")\n",
    "# loop over each of the axes and turn off the x and y ticks\n",
    "for i in range(0, 3):\n",
    "\taxs[i].get_xaxis().set_ticks([])\n",
    "\taxs[i].get_yaxis().set_ticks([])\n",
    "# show the plots\n",
    "plt.tight_layout()\n",
    "plt.show()"
   ]
  },
  {
   "cell_type": "code",
   "execution_count": 10,
   "metadata": {},
   "outputs": [],
   "source": [
    "wide = cv2.Canny(blur, 10, 200)\n",
    "mid = cv2.Canny(blur, 30, 150)\n",
    "tight = cv2.Canny(blur, 240, 250)\n"
   ]
  },
  {
   "cell_type": "code",
   "execution_count": 11,
   "metadata": {},
   "outputs": [],
   "source": [
    "cv2.imshow(\"Wide Edge Map\", wide)\n",
    "cv2.imshow(\"Mid Edge Map\", mid)\n",
    "cv2.imshow(\"Tight Edge Map\", tight)\n",
    "cv2.waitKey(0)\n",
    "cv2.destroyAllWindows()"
   ]
  },
  {
   "cell_type": "code",
   "execution_count": 12,
   "metadata": {},
   "outputs": [],
   "source": [
    "contours, hierarchy = cv2.findContours(image=tight, mode=cv2.RETR_EXTERNAL, method=cv2.CHAIN_APPROX_NONE)"
   ]
  },
  {
   "cell_type": "code",
   "execution_count": 13,
   "metadata": {},
   "outputs": [],
   "source": [
    "copy = blur.copy()\n",
    "cv2.drawContours(blur, contours, -1, color=(0, 254, 0), thickness=3)\n",
    "cv2.imshow('Contours', blur)\n",
    "cv2.waitKey(0)\n",
    "cv2.destroyAllWindows()"
   ]
  },
  {
   "cell_type": "code",
   "execution_count": 14,
   "metadata": {},
   "outputs": [
    {
     "name": "stdout",
     "output_type": "stream",
     "text": [
      "Number of Contours found = 48\n"
     ]
    }
   ],
   "source": [
    "print(\"Number of Contours found = \" + str(len(contours))) "
   ]
  },
  {
   "cell_type": "code",
   "execution_count": 15,
   "metadata": {},
   "outputs": [],
   "source": [
    "ret, thresh = cv2.threshold(blur, 150, 255, cv2.THRESH_BINARY)\n",
    "cv2.imshow('Binary image', thresh)\n",
    "cv2.waitKey(0)\n",
    "cv2.destroyAllWindows()\n"
   ]
  },
  {
   "cell_type": "code",
   "execution_count": 16,
   "metadata": {},
   "outputs": [],
   "source": [
    "cont, hier = cv2.findContours(thresh, mode=cv2.RETR_TREE, method=cv2.CHAIN_APPROX_NONE)\n",
    "image_copy = blur.copy()\n",
    "cv2.drawContours(image=image_copy, contours=cont, contourIdx=-1, color=(0, 255, 0), thickness=2, lineType=cv2.LINE_AA)\n",
    "cv2.imshow('None approximation', colour)\n",
    "cv2.waitKey(0)\n",
    "cv2.destroyAllWindows()"
   ]
  },
  {
   "cell_type": "code",
   "execution_count": 17,
   "metadata": {},
   "outputs": [
    {
     "name": "stdout",
     "output_type": "stream",
     "text": [
      "Number of Contours found = 7\n"
     ]
    }
   ],
   "source": [
    "print(\"Number of Contours found = \" + str(len(cont))) "
   ]
  },
  {
   "cell_type": "code",
   "execution_count": 18,
   "metadata": {},
   "outputs": [
    {
     "name": "stdout",
     "output_type": "stream",
     "text": [
      "[[255 255 255 ... 255 255 255]\n",
      " [255 255 255 ... 255 255 255]\n",
      " [255 255 255 ... 255 255 255]\n",
      " ...\n",
      " [255 255 255 ... 255 255 255]\n",
      " [255 255 255 ... 255 255 255]\n",
      " [255 255 255 ... 255 255 255]]\n"
     ]
    }
   ],
   "source": [
    "res = cv2.polylines(blur, cont[1], isClosed=True, color=(255, 0, 0), thickness=4)\n",
    "print(res)"
   ]
  },
  {
   "cell_type": "code",
   "execution_count": 19,
   "metadata": {},
   "outputs": [],
   "source": [
    "cont_info = [(i, cv2.contourArea(i)) for i in cont]"
   ]
  },
  {
   "cell_type": "code",
   "execution_count": 20,
   "metadata": {},
   "outputs": [],
   "source": [
    "mask = np.ones(colour.shape, dtype=np.uint8)\n",
    "mask = cv2.fillConvexPoly(mask, cont[3], [0,0,0])\n",
    "mult = np.multiply(colour, mask)\n"
   ]
  },
  {
   "cell_type": "code",
   "execution_count": 21,
   "metadata": {},
   "outputs": [],
   "source": [
    "cv2.imshow('Mask', mult)\n",
    "cv2.waitKey(0)\n",
    "cv2.destroyAllWindows()"
   ]
  },
  {
   "cell_type": "code",
   "execution_count": 25,
   "metadata": {},
   "outputs": [
    {
     "name": "stdout",
     "output_type": "stream",
     "text": [
      "890311.5\n"
     ]
    }
   ],
   "source": [
    "print(cv2.contourArea(cont[1]))"
   ]
  },
  {
   "cell_type": "code",
   "execution_count": 26,
   "metadata": {},
   "outputs": [],
   "source": [
    "colour = cv2.fillConvexPoly(colour, cont[3], [255,255,0])\n",
    "cv2.imshow('Mask', colour)\n",
    "cv2.waitKey(0)\n",
    "cv2.destroyAllWindows()"
   ]
  }
 ],
 "metadata": {
  "kernelspec": {
   "display_name": "Python 3",
   "language": "python",
   "name": "python3"
  },
  "language_info": {
   "codemirror_mode": {
    "name": "ipython",
    "version": 3
   },
   "file_extension": ".py",
   "mimetype": "text/x-python",
   "name": "python",
   "nbconvert_exporter": "python",
   "pygments_lexer": "ipython3",
   "version": "3.11.4"
  },
  "orig_nbformat": 4
 },
 "nbformat": 4,
 "nbformat_minor": 2
}
